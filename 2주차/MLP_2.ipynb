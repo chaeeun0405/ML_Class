{
  "nbformat": 4,
  "nbformat_minor": 0,
  "metadata": {
    "colab": {
      "provenance": [],
      "mount_file_id": "1acoSyZVBYw8M8adrZYEm4Pc1tV5vsMuI",
      "authorship_tag": "ABX9TyMqWIDsCxaiqKpL+KUR5r9A",
      "include_colab_link": true
    },
    "kernelspec": {
      "name": "python3",
      "display_name": "Python 3"
    },
    "language_info": {
      "name": "python"
    }
  },
  "cells": [
    {
      "cell_type": "markdown",
      "metadata": {
        "id": "view-in-github",
        "colab_type": "text"
      },
      "source": [
        "<a href=\"https://colab.research.google.com/github/chaeeun0405/ML_Class/blob/main/2%EC%A3%BC%EC%B0%A8/MLP_2.ipynb\" target=\"_parent\"><img src=\"https://colab.research.google.com/assets/colab-badge.svg\" alt=\"Open In Colab\"/></a>"
      ]
    },
    {
      "cell_type": "code",
      "execution_count": 1,
      "metadata": {
        "id": "lqBGtn_b9Wy8",
        "colab": {
          "base_uri": "https://localhost:8080/"
        },
        "outputId": "37a0577c-13b2-463a-c2a4-043269ee1295"
      },
      "outputs": [
        {
          "output_type": "stream",
          "name": "stdout",
          "text": [
            "=== Test Accuracy ===\n",
            "Decision Tree : 0.9333\n",
            "Random Forest : 0.9000\n",
            "Logistic Reg. : 0.9667\n"
          ]
        }
      ],
      "source": [
        "import pandas as pd\n",
        "from sklearn.model_selection import train_test_split\n",
        "from sklearn.tree import DecisionTreeClassifier\n",
        "from sklearn.ensemble import RandomForestClassifier\n",
        "from sklearn.linear_model import LogisticRegression\n",
        "from sklearn.metrics import accuracy_score\n",
        "\n",
        "\n",
        "# -----------------------------\n",
        "# 1) 데이터 준비\n",
        "# -----------------------------\n",
        "\n",
        "cols = [\"sepal_length\", \"sepal_width\", \"petal_length\", \"petal_width\", \"label\"]\n",
        "df = pd.read_csv(\"/content/drive/MyDrive/dataset/iris.data\", header=None, names=cols).dropna()\n",
        "\n",
        "\n",
        "X = df.drop(columns=[\"label\"])\n",
        "y = df[\"label\"]\n",
        "\n",
        "\n",
        "X_train, X_test, y_train, y_test = train_test_split(\n",
        "    X, y, test_size=0.2, stratify=y, random_state=42\n",
        ")\n",
        "\n",
        "\n",
        "# -----------------------------\n",
        "# 2) 모델 구성\n",
        "# -----------------------------\n",
        "\n",
        "dt = DecisionTreeClassifier(random_state=42)\n",
        "rf = RandomForestClassifier(n_estimators=200, random_state=42)\n",
        "lr = LogisticRegression(max_iter=500)\n",
        "\n",
        "\n",
        "# -----------------------------\n",
        "# 3) 모델 학습\n",
        "# -----------------------------\n",
        "\n",
        "dt.fit(X_train, y_train)\n",
        "rf.fit(X_train, y_train)\n",
        "lr.fit(X_train, y_train)\n",
        "\n",
        "\n",
        "# -----------------------------\n",
        "# 4) 모델 평가\n",
        "# -----------------------------\n",
        "\n",
        "dt_acc = accuracy_score(y_test, dt.predict(X_test))\n",
        "rf_acc = accuracy_score(y_test, rf.predict(X_test))\n",
        "lr_acc = accuracy_score(y_test, lr.predict(X_test))\n",
        "\n",
        "\n",
        "print(\"=== Test Accuracy ===\")\n",
        "print(f\"Decision Tree : {dt_acc:.4f}\")\n",
        "print(f\"Random Forest : {rf_acc:.4f}\")\n",
        "print(f\"Logistic Reg. : {lr_acc:.4f}\")"
      ]
    }
  ]
}